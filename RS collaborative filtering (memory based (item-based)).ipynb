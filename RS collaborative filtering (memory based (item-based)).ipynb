{
 "cells": [
  {
   "cell_type": "code",
   "execution_count": 19,
   "id": "9a8b6c7c",
   "metadata": {},
   "outputs": [
    {
     "name": "stdout",
     "output_type": "stream",
     "text": [
      "read csv files: done\n"
     ]
    }
   ],
   "source": [
    "import pandas as pd\n",
    "\n",
    "movies_df = pd.read_csv(\n",
    "    'ml-25m/movies.csv',\n",
    "    usecols=['movieId', 'title'],\n",
    "    dtype={'movieId': 'int32', 'title': 'str'})\n",
    "\n",
    "ratings_df = pd.read_csv(\n",
    "    'ml-25m/ratings.csv',\n",
    "    usecols=['userId', 'movieId', 'rating'],\n",
    "    dtype={'userId': 'int32', 'movieId': 'int32', 'rating': 'float32'})\n",
    "\n",
    "print('read csv files: done')"
   ]
  },
  {
   "cell_type": "code",
   "execution_count": 31,
   "id": "ad1a8b01",
   "metadata": {},
   "outputs": [
    {
     "name": "stdout",
     "output_type": "stream",
     "text": [
      "set popular_movies and active_users: done\n"
     ]
    }
   ],
   "source": [
    "## data preparation_1\n",
    "\n",
    "movies_df_cnt = pd.DataFrame(ratings_df.groupby('movieId').size(),\n",
    "                            columns=['count'])\n",
    "popular_movies = list(set(movies_df_cnt.query('count >= 50').index))\n",
    "movies_filter = ratings_df.movieId.isin(popular_movies).values\n",
    "\n",
    "\n",
    "users_df_cnt = pd.DataFrame(ratings_df.groupby('userId').size(),\n",
    "                            columns=['count'])\n",
    "active_users = list(set(users_df_cnt.query('count >= 20').index))  # noqa\n",
    "users_filter = ratings_df.userId.isin(active_users).values\n",
    "\n",
    "df_ratings_filtered = ratings_df[movies_filter & users_filter]\n",
    "\n",
    "print('set popular_movies and active_users: done')\n"
   ]
  },
  {
   "cell_type": "code",
   "execution_count": 33,
   "id": "83ac5d66",
   "metadata": {
    "scrolled": true
   },
   "outputs": [
    {
     "name": "stdout",
     "output_type": "stream",
     "text": [
      "movie-user rating matrix: done\n"
     ]
    }
   ],
   "source": [
    "## data preparation_2\n",
    "movie_user_mat = df_ratings_filtered.pivot(index = 'movieId',\n",
    "                                          columns = 'userId',\n",
    "                                          values = 'rating').fillna(0)\n",
    "\n",
    "# movie_user_mat.head(5) # 5 rows × 162242 columns\n",
    "print('movie-user rating matrix: done')"
   ]
  },
  {
   "cell_type": "code",
   "execution_count": 34,
   "id": "6fc03af5",
   "metadata": {},
   "outputs": [
    {
     "name": "stdout",
     "output_type": "stream",
     "text": [
      "hashmap and movie_user_mat_sparse: done\n"
     ]
    }
   ],
   "source": [
    "## data preparation_3\n",
    "from scipy.sparse import csr_matrix\n",
    "\n",
    "hashmap = {\n",
    "    movie: i for i, movie in\n",
    "    enumerate(list(movies_df.set_index('movieId').loc[movie_user_mat.index].title))\n",
    "}\n",
    "\n",
    "movie_user_mat_sparse = csr_matrix(movie_user_mat.values)\n",
    "\n",
    "print('hashmap and movie_user_mat_sparse: done')\n"
   ]
  },
  {
   "cell_type": "code",
   "execution_count": 55,
   "id": "d38b9e76",
   "metadata": {},
   "outputs": [],
   "source": [
    "## matching\n",
    "from fuzzywuzzy import fuzz\n",
    "import time\n",
    "\n",
    "def fuzzy_matching(hashmap, fav_movie):\n",
    "    match_tuple = []\n",
    "\n",
    "    for title, idx in hashmap.items():\n",
    "        ratio = fuzz.ratio(title.lower(), fav_movie.lower())\n",
    "        if ratio >= 70:\n",
    "            match_tuple.append((title, idx, ratio))\n",
    "\n",
    "    match_tuple = sorted(match_tuple, key=lambda x: x[2])[::-1]\n",
    "    if not match_tuple:\n",
    "        print('no match found')\n",
    "    else:\n",
    "        print('Found possible matches in our database: '\n",
    "              '{0}\\n'.format([x[0] for x in match_tuple]))\n",
    "\n",
    "    return match_tuple[0][1]\n",
    "\n",
    "## inference\n",
    "def inference(model, data, hashmap, fav_movie, n_recommendation):\n",
    "    model.fit(data)\n",
    "    print('You have input movie: ', fav_movie)\n",
    "    idx = fuzzy_matching(hashmap, fav_movie)\n",
    "    print('Recommendation system start to make inference')\n",
    "    print('......\\n')\n",
    "    t0 = time.time()\n",
    "    distances, indices = model.kneighbors(\n",
    "        data[idx], n_neighbors = n_recommendation+1)\n",
    "    raw_recommends = sorted(list(zip(\n",
    "                     indices.squeeze().tolist(),\n",
    "                     distances.squeeze().tolist()\n",
    "                     )), key = lambda x: x[1])[:0:-1]\n",
    "    print('It took my system {:.2f}s to make inference'.format(time.time()-t0))\n",
    "    \n",
    "    return raw_recommends\n",
    "          "
   ]
  },
  {
   "cell_type": "code",
   "execution_count": 56,
   "id": "1502d9f4",
   "metadata": {},
   "outputs": [],
   "source": [
    "def make_recommendations(fav_movie, n_recommendations):\n",
    "    raw_recommends = inference(NearestNeighbors(), movie_user_mat_sparse, hashmap,fav_movie, n_recommendations)\n",
    "    reverse_hashmap = {v: k for k, v in hashmap.items()}\n",
    "    print('Recommendations for {}:'.format(fav_movie))\n",
    "    for i, (idx, dist) in enumerate(raw_recommends):\n",
    "        print('{0}: {1}, with distance' ' of {2}'.format(i+1, reverse_hashmap[idx], dist))\n",
    "    "
   ]
  },
  {
   "cell_type": "code",
   "execution_count": 57,
   "id": "5b1f98ee",
   "metadata": {},
   "outputs": [
    {
     "name": "stdout",
     "output_type": "stream",
     "text": [
      "You have input movie:  Monsters Inc\n",
      "Found possible matches in our database: ['Monsters, Inc. (2001)']\n",
      "\n",
      "Recommendation system start to make inference\n",
      "......\n",
      "\n",
      "It took my system 0.37s to make inference\n",
      "Recommendations for Monsters Inc:\n",
      "1: Spider-Man 2 (2004), with distance of 660.0568237304688\n",
      "2: Harry Potter and the Chamber of Secrets (2002), with distance of 659.912109375\n",
      "3: Harry Potter and the Sorcerer's Stone (a.k.a. Harry Potter and the Philosopher's Stone) (2001), with distance of 656.5908203125\n",
      "4: Ratatouille (2007), with distance of 654.8234252929688\n",
      "5: Spider-Man (2002), with distance of 640.3944091796875\n",
      "6: Ice Age (2002), with distance of 629.60107421875\n",
      "7: Shrek (2001), with distance of 624.0492553710938\n",
      "8: Shrek 2 (2004), with distance of 620.7487182617188\n",
      "9: Incredibles, The (2004), with distance of 606.2330322265625\n",
      "10: Finding Nemo (2003), with distance of 562.4389038085938\n"
     ]
    }
   ],
   "source": [
    "make_recommendations('Monsters Inc', 10)"
   ]
  },
  {
   "cell_type": "code",
   "execution_count": 27,
   "id": "95727710",
   "metadata": {},
   "outputs": [
    {
     "ename": "TypeError",
     "evalue": "make_recommendations() missing 1 required positional argument: 'n_recommendations'",
     "output_type": "error",
     "traceback": [
      "\u001b[0;31m---------------------------------------------------------------------------\u001b[0m",
      "\u001b[0;31mTypeError\u001b[0m                                 Traceback (most recent call last)",
      "\u001b[0;32m<ipython-input-27-904ada59e0bc>\u001b[0m in \u001b[0;36m<module>\u001b[0;34m\u001b[0m\n\u001b[1;32m     24\u001b[0m               'of {2}'.format(i+1, reverse_hashmap[idx], dist))\n\u001b[1;32m     25\u001b[0m \u001b[0;34m\u001b[0m\u001b[0m\n\u001b[0;32m---> 26\u001b[0;31m \u001b[0mmake_recommendations\u001b[0m\u001b[0;34m(\u001b[0m\u001b[0;34m'Iron Man'\u001b[0m\u001b[0;34m,\u001b[0m \u001b[0;36m10\u001b[0m\u001b[0;34m)\u001b[0m\u001b[0;34m\u001b[0m\u001b[0;34m\u001b[0m\u001b[0m\n\u001b[0m",
      "\u001b[0;31mTypeError\u001b[0m: make_recommendations() missing 1 required positional argument: 'n_recommendations'"
     ]
    }
   ],
   "source": [
    "from sklearn.neighbors import NearestNeighbors\n",
    "model_knn = NearestNeighbors(metric='cosine', algorithm='brute', n_neighbors=20, n_jobs=-1)\n",
    "from fuzzywuzzy import fuzz\n",
    "\n",
    "\n",
    " def make_recommendations(self, fav_movie, n_recommendations):\n",
    "        \"\"\"\n",
    "        make top n movie recommendations\n",
    "        Parameters\n",
    "        ----------\n",
    "        fav_movie: str, name of user input movie\n",
    "        n_recommendations: int, top n recommendations\n",
    "        \"\"\"\n",
    "        # get data\n",
    "        movie_user_mat_sparse, hashmap = self._prep_data()\n",
    "        # get recommendations\n",
    "        raw_recommends = self._inference(\n",
    "            self.model, movie_user_mat_sparse, hashmap,\n",
    "            fav_movie, n_recommendations)\n",
    "        # print results\n",
    "        reverse_hashmap = {v: k for k, v in hashmap.items()}\n",
    "        print('Recommendations for {}:'.format(fav_movie))\n",
    "        for i, (idx, dist) in enumerate(raw_recommends):\n",
    "            print('{0}: {1}, with distance '\n",
    "                  'of {2}'.format(i+1, reverse_hashmap[idx], dist))\n",
    "\n"
   ]
  },
  {
   "cell_type": "code",
   "execution_count": null,
   "id": "7f345fbb",
   "metadata": {},
   "outputs": [],
   "source": []
  }
 ],
 "metadata": {
  "kernelspec": {
   "display_name": "Python 3 (ipykernel)",
   "language": "python",
   "name": "python3"
  },
  "language_info": {
   "codemirror_mode": {
    "name": "ipython",
    "version": 3
   },
   "file_extension": ".py",
   "mimetype": "text/x-python",
   "name": "python",
   "nbconvert_exporter": "python",
   "pygments_lexer": "ipython3",
   "version": "3.10.6"
  }
 },
 "nbformat": 4,
 "nbformat_minor": 5
}
